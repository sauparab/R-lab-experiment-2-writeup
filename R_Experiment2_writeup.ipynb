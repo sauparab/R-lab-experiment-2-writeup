{
  "nbformat": 4,
  "nbformat_minor": 0,
  "metadata": {
    "colab": {
      "name": "R_Experiment2_writeup.ipynb",
      "provenance": [],
      "collapsed_sections": []
    },
    "kernelspec": {
      "name": "ir",
      "display_name": "R"
    }
  },
  "cells": [
    {
      "cell_type": "markdown",
      "metadata": {
        "id": "ID8ytqkhyQUI"
      },
      "source": [
        "\n",
        "**Vectors R Programming**\n",
        "\n",
        "The simplest and most common data structure in R is the vector. Vectors come in two different flavors: atomic vectors and lists. An atomic vector contains exactly one data type, whereas a list may contain multiple data types.\n",
        "\n",
        "Atomic vectors include logical, character, integer, and complex. Logical vectors can contain the values TRUE, FALSE, and NA (for 'not available').These values are generated as the result of logical 'conditions'.\n",
        "\n",
        "Complet following couple of code cell to genearate a logical vector in variable logic_vect\n"
      ]
    },
    {
      "cell_type": "code",
      "metadata": {
        "id": "vmxkWCwVaTsu",
        "colab": {
          "base_uri": "https://localhost:8080/",
          "height": 34
        },
        "outputId": "7774e303-e2bc-42f8-bc08-a163c8307e66"
      },
      "source": [
        "# Create a vector num_vect with values -100, 0.55, 45, 5466\n",
        "num_vect<-c(-100,0.55,45,5466)\n",
        "num_vect"
      ],
      "execution_count": null,
      "outputs": [
        {
          "output_type": "display_data",
          "data": {
            "text/plain": [
              "[1] -100.00    0.55   45.00 5466.00"
            ],
            "text/latex": "\\begin{enumerate*}\n\\item -100\n\\item 0.55\n\\item 45\n\\item 5466\n\\end{enumerate*}\n",
            "text/markdown": "1. -100\n2. 0.55\n3. 45\n4. 5466\n\n\n",
            "text/html": [
              "<style>\n",
              ".list-inline {list-style: none; margin:0; padding: 0}\n",
              ".list-inline>li {display: inline-block}\n",
              ".list-inline>li:not(:last-child)::after {content: \"\\00b7\"; padding: 0 .5ex}\n",
              "</style>\n",
              "<ol class=list-inline><li>-100</li><li>0.55</li><li>45</li><li>5466</li></ol>\n"
            ]
          },
          "metadata": {
            "tags": []
          }
        }
      ]
    },
    {
      "cell_type": "code",
      "metadata": {
        "id": "eB193NZhaTxX"
      },
      "source": [
        "#Now, create a variable called logic_vect that gets the result of num_vect <= 0.55, which is read as 'num_vect is less than 0.55'.\n",
        "logic_vect <- num_vect <=0.55"
      ],
      "execution_count": null,
      "outputs": []
    },
    {
      "cell_type": "markdown",
      "metadata": {
        "id": "Wjk_ipkRbIEQ"
      },
      "source": [
        "If you print logic_vect. you will see that is is a logical vector with 4 values. Print logic_vect in cell below to verify it "
      ]
    },
    {
      "cell_type": "code",
      "metadata": {
        "id": "daPof3CfbYJl"
      },
      "source": [
        "#print logic_vect"
      ],
      "execution_count": null,
      "outputs": []
    },
    {
      "cell_type": "code",
      "metadata": {
        "id": "B-qA0ir1TNBN"
      },
      "source": [
        "logic_vect"
      ],
      "execution_count": null,
      "outputs": []
    },
    {
      "cell_type": "markdown",
      "metadata": {
        "id": "4jiw8bwAUVoW"
      },
      "source": [
        "Output: TRUE TRUE FALSE FALSE"
      ]
    },
    {
      "cell_type": "markdown",
      "metadata": {
        "id": "50EXDJ8DTLz2"
      },
      "source": [
        ""
      ]
    },
    {
      "cell_type": "code",
      "metadata": {
        "id": "ZJRGCFsRbluA"
      },
      "source": [
        "#Type num_vect >= 6 and note the output"
      ],
      "execution_count": null,
      "outputs": []
    },
    {
      "cell_type": "code",
      "metadata": {
        "id": "d0gG1063TTcn"
      },
      "source": [
        "logic_vect <- num_vect >= 6\r\n",
        "logic_vect"
      ],
      "execution_count": null,
      "outputs": []
    },
    {
      "cell_type": "markdown",
      "metadata": {
        "id": "BGRzPMyVVEMi"
      },
      "source": [
        "Output: FALSE FALSE TRUE TRUE "
      ]
    },
    {
      "cell_type": "markdown",
      "metadata": {
        "id": "ykWXOe7kbbCH"
      },
      "source": [
        "Character vectors\n",
        "\n",
        "Character vectors are also very common in R. Double quotes are used to distinguish character objects."
      ]
    },
    {
      "cell_type": "code",
      "metadata": {
        "id": "Y5By5YrKcKLV"
      },
      "source": [
        "# Create a character vector that contains the following words: \"My\", \"name\", \"is\". \n",
        "#Remember to enclose each word in its own set of double quotes, \n",
        "#so that R knows they are character strings. Store the vector in a variable called char_vect.\n"
      ],
      "execution_count": null,
      "outputs": []
    },
    {
      "cell_type": "code",
      "metadata": {
        "id": "jcL1A0Gxi8Dv"
      },
      "source": [
        "char_vect <- c(\"My\", \"name\", \"is\")"
      ],
      "execution_count": null,
      "outputs": []
    },
    {
      "cell_type": "code",
      "metadata": {
        "id": "fCs9xH65dXqF"
      },
      "source": [
        "# print the char_vect"
      ],
      "execution_count": null,
      "outputs": []
    },
    {
      "cell_type": "code",
      "metadata": {
        "id": "FHj5TOHYjAsj"
      },
      "source": [
        "char_vect"
      ],
      "execution_count": null,
      "outputs": []
    },
    {
      "cell_type": "markdown",
      "metadata": {
        "id": "2nFGu26GjPvP"
      },
      "source": [
        "Output: \"My\"  \"name\" \"is\""
      ]
    },
    {
      "cell_type": "code",
      "metadata": {
        "id": "wqFk1eWDdaej"
      },
      "source": [
        "#use paste(char_vect, collapse=\" \")\n",
        "\"My name is\""
      ],
      "execution_count": null,
      "outputs": []
    },
    {
      "cell_type": "markdown",
      "metadata": {
        "id": "U6zErBTNdkjS"
      },
      "source": [
        "Explain What difference you see in above two code blocks\n",
        "\n",
        " My explaination:\n",
        " In this example, in the first code block, char_vect is a character vector with length 3. In the second code block, we join the elements of char_vect together into one character string. this is done by paste() function. In the second code block, char_vect is a character vector with length 1.\n",
        " "
      ]
    },
    {
      "cell_type": "code",
      "metadata": {
        "id": "bb8VxwW6eq4I"
      },
      "source": [
        "# add your name as an element to char_vect and paste complete sentence saying \"My name is <your name>\"\n"
      ],
      "execution_count": null,
      "outputs": []
    },
    {
      "cell_type": "markdown",
      "metadata": {
        "id": "NMS0E2_WmBL_"
      },
      "source": [
        "here, I create new vector to store the result of new vector with new element."
      ]
    },
    {
      "cell_type": "code",
      "metadata": {
        "id": "SdAuVRzYmPOi"
      },
      "source": [
        "my_name <- c(char_vect, \"Saurabh\")\r\n",
        "paste(my_name, collapse = \" \")"
      ],
      "execution_count": null,
      "outputs": []
    },
    {
      "cell_type": "markdown",
      "metadata": {
        "id": "jHQr1q8imZgj"
      },
      "source": [
        "Output: \"My name is Saurabh\""
      ]
    },
    {
      "cell_type": "code",
      "metadata": {
        "id": "2On4I2KFffCo"
      },
      "source": [
        "#Execute this code block\n",
        "paste(\"Hello\",\"World!\",collapse=\" \")"
      ],
      "execution_count": null,
      "outputs": []
    },
    {
      "cell_type": "markdown",
      "metadata": {
        "id": "GJetFNsqm5nA"
      },
      "source": [
        "Output: \"Hello World!\""
      ]
    },
    {
      "cell_type": "markdown",
      "metadata": {
        "id": "Ix0RGNhYfk5M"
      },
      "source": [
        "Explain output of code block above."
      ]
    },
    {
      "cell_type": "markdown",
      "metadata": {
        "id": "X7a8wCstm9iv"
      },
      "source": [
        "here, In this example, paste() function is used to join the elements of two vectors into a single string with collapse=\" \". "
      ]
    },
    {
      "cell_type": "code",
      "metadata": {
        "id": "UG8NGPx4fq01"
      },
      "source": [
        "#Execute this \n",
        "paste(1:3, c(\"X\", \"Y\", \"Z\"), sep = \":\")"
      ],
      "execution_count": null,
      "outputs": []
    },
    {
      "cell_type": "code",
      "metadata": {
        "id": "sJz_onZRpXzv"
      },
      "source": [
        "\"1:X\" \"2:Y\" \"3:Z\""
      ],
      "execution_count": null,
      "outputs": []
    },
    {
      "cell_type": "markdown",
      "metadata": {
        "id": "nUhPinZmpUc_"
      },
      "source": [
        ""
      ]
    },
    {
      "cell_type": "markdown",
      "metadata": {
        "id": "WZburobtgHPL"
      },
      "source": [
        "Explain output of above code block"
      ]
    },
    {
      "cell_type": "markdown",
      "metadata": {
        "id": "rx5Q3aLUrJfJ"
      },
      "source": [
        "In this example , we join two vectors with length 3 using paste() function. here, sep argument is used to seperate the values with \":\" and join the elements."
      ]
    },
    {
      "cell_type": "code",
      "metadata": {
        "id": "dfigEt5CgidD"
      },
      "source": [
        "#Executes this LETTERS is \n",
        "paste(LETTERS, 1:10, sep = \"-\")"
      ],
      "execution_count": null,
      "outputs": []
    },
    {
      "cell_type": "code",
      "metadata": {
        "id": "CHfyhPEdq9U3"
      },
      "source": [
        "\"A-1\"  \"B-2\"  \"C-3\"  \"D-4\"  \"E-5\"  \"F-6\"  \"G-7\" \r\n",
        "\"H-8\"  \"I-9\"  \"J-10\" \"K-1\"  \"L-2\"  \"M-3\"  \"N-4\" \r\n",
        "\"O-5\"  \"P-6\"  \"Q-7\"  \"R-8\"  \"S-9\"  \"T-10\" \"U-1\" \r\n",
        "\"V-2\"  \"W-3\"  \"X-4\"  \"Y-5\"  \"Z-6\" "
      ],
      "execution_count": null,
      "outputs": []
    },
    {
      "cell_type": "markdown",
      "metadata": {
        "id": "zi6nXmiZp1Li"
      },
      "source": [
        "Explain output of above code block"
      ]
    },
    {
      "cell_type": "markdown",
      "metadata": {
        "id": "_9CfEv97rMPW"
      },
      "source": [
        "here, character vector LETTERS is longer tha numeric vector 1:10. hence, R repeats 1:10 untill it matches length of character vector. "
      ]
    },
    {
      "cell_type": "markdown",
      "metadata": {
        "id": "-0QgUdh2rDJ1"
      },
      "source": [
        ""
      ]
    },
    {
      "cell_type": "markdown",
      "metadata": {
        "id": "oaWD-k-4qNOV"
      },
      "source": [
        "**Write R code to Solve Following**\n",
        "1.   To begin with create a vecor **a** of 20 random values from Std Normal Variable.\n",
        "2.   Creat another vector **b** of 20 NA values. Also create vector x\n",
        "3.   Sample 20 values from above two vectors. \n",
        "4.   Subset  10th to 15th element from x to generate sample y\n",
        "5.   Count NAs in vector x and y         "
      ]
    },
    {
      "cell_type": "code",
      "metadata": {
        "id": "lDYZRiknts1_"
      },
      "source": [
        "a <- rnorm(20)"
      ],
      "execution_count": null,
      "outputs": []
    },
    {
      "cell_type": "markdown",
      "metadata": {
        "id": "Du0kMraav7Ad"
      },
      "source": [
        "0.81934544  0.25569896  1.27275497 -0.98593604\r\n",
        "1.12016907  0.71636700 -1.17386050  1.38105600\r\n",
        "-0.23083861  2.45734825 -0.96663165  0.51654543\r\n",
        "2.34258692 -0.94517911 -0.85720948 -0.01970195\r\n",
        "-1.30903909  0.60654486  1.07153600  0.84873973"
      ]
    },
    {
      "cell_type": "code",
      "metadata": {
        "id": "vUBd3ChXwBu7"
      },
      "source": [
        " b <- rep(NA, 20)\r\n",
        " b"
      ],
      "execution_count": null,
      "outputs": []
    },
    {
      "cell_type": "markdown",
      "metadata": {
        "id": "xq7ViPYUwF9D"
      },
      "source": [
        "NA NA NA NA NA NA NA NA NA NA NA NA NA NA NA NA NA\r\n",
        "NA NA NA"
      ]
    },
    {
      "cell_type": "code",
      "metadata": {
        "id": "3nZe8B05wJUU"
      },
      "source": [
        "x <- c(a,b)\r\n",
        "x <- sample(x,20, replace = FALSE)\r\n",
        "x\r\n"
      ],
      "execution_count": null,
      "outputs": []
    },
    {
      "cell_type": "markdown",
      "metadata": {
        "id": "d6jlsV8Tyn_A"
      },
      "source": [
        "   [1]         NA         NA  1.0715360 -1.1738605\r\n",
        " [5]  0.2556990  1.1201691         NA  1.3810560\r\n",
        " [9]         NA         NA -1.3090391 -0.9451791\r\n",
        "[13]         NA         NA         NA         NA\r\n",
        "[17]  0.6065449         NA -0.9859360  0.8487397"
      ]
    },
    {
      "cell_type": "code",
      "metadata": {
        "id": "6SXbqT66y-Y0"
      },
      "source": [
        "n <- x\r\n",
        "y <- x[6:10]\r\n",
        "y"
      ],
      "execution_count": null,
      "outputs": []
    },
    {
      "cell_type": "markdown",
      "metadata": {
        "id": "oDMSeUxjzGBN"
      },
      "source": [
        "[1] 1.120169       NA 1.381056       NA       NA"
      ]
    },
    {
      "cell_type": "code",
      "metadata": {
        "id": "G7dda2Gs0LRz"
      },
      "source": [
        "sum(is.na(x))"
      ],
      "execution_count": null,
      "outputs": []
    },
    {
      "cell_type": "markdown",
      "metadata": {
        "id": "pQsesDbv0N10"
      },
      "source": [
        "9"
      ]
    },
    {
      "cell_type": "code",
      "metadata": {
        "id": "QwJp0Dhp0PHU"
      },
      "source": [
        "sum(is.na(y))"
      ],
      "execution_count": null,
      "outputs": []
    },
    {
      "cell_type": "markdown",
      "metadata": {
        "id": "HN8AF3hA0Rq0"
      },
      "source": [
        "4"
      ]
    }
  ]
}
